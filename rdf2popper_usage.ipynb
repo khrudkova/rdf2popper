{
 "cells": [
  {
   "metadata": {},
   "cell_type": "markdown",
   "source": "The converter outputs files based on the structure of datasets from the [Popper examples](https://github.com/logic-and-learning-lab/Popper/tree/main/examples). It expects the input to be a knowledge graph in .nt format.",
   "id": "449db4beaffe1d81"
  },
  {
   "cell_type": "code",
   "id": "initial_id",
   "metadata": {
    "collapsed": true,
    "ExecuteTime": {
     "end_time": "2025-04-15T10:27:22.578942Z",
     "start_time": "2025-04-15T10:27:22.562704Z"
    }
   },
   "source": "from rdf2popper import rdf2popper",
   "outputs": [],
   "execution_count": 1
  },
  {
   "metadata": {},
   "cell_type": "markdown",
   "source": [
    "**rdf2popper** has three required input parameters. Most of the parameters have default values and can be ignored.\n",
    "\n",
    "- file_name\n",
    "    - name of N-Triples file without .nt extension\n",
    "- head_pred_name\n",
    "    - name of head predicate (predicate symbol of positive examples)\n",
    "- negative_predicate\n",
    "    - predicate symbol of negative examples\n",
    "    - if left empty, the positive one is used with false value at the object position\n",
    "- output_directory: output\n",
    "    - name of prefix appended to output directory\n",
    "- output_prefix: rdf2popper\n",
    "    - name of prefix appended to output for particular dataset directory\n",
    "- universal_predicate_1: has_property\n",
    "        - predicate symbol name for unary atoms\n",
    "        - works automatically for **rdf:type** predicates\n",
    "- unary_exs_values: [true, false] list\n",
    "    - list of true/false values for unary examples recognition\n",
    "\n",
    "The following line of code will generate the output from the input files to the \"output\" folder, if the .nt file is present in the current directory. Before running the code, define the name of the input .nt file minus the extension, positive and negative predicate, if needed."
   ],
   "id": "68151c28c5439c42"
  },
  {
   "metadata": {
    "ExecuteTime": {
     "end_time": "2025-04-15T10:34:16.572883Z",
     "start_time": "2025-04-15T10:34:16.474213Z"
    }
   },
   "cell_type": "code",
   "source": [
    "nt_file_name = \"trains1\" # enter .nt file name\n",
    "positive_exs_pred = \"\" # enter predicate symbol denoting positive examples\n",
    "negative_exs_pred = \"\" # enter predicate symbol denoting negative examples\n",
    "rdf2popper(nt_file_name, positive_exs_pred, negative_exs_pred, 'aleph')"
   ],
   "id": "82db49735e2e537d",
   "outputs": [
    {
     "ename": "ValueError",
     "evalue": "Missing head predicate in the trains1.nt",
     "output_type": "error",
     "traceback": [
      "\u001B[1;31m---------------------------------------------------------------------------\u001B[0m",
      "\u001B[1;31mValueError\u001B[0m                                Traceback (most recent call last)",
      "Cell \u001B[1;32mIn[4], line 4\u001B[0m\n\u001B[0;32m      2\u001B[0m positive_exs_pred \u001B[38;5;241m=\u001B[39m \u001B[38;5;124m\"\u001B[39m\u001B[38;5;124m\"\u001B[39m \u001B[38;5;66;03m# enter predicate symbol denoting positive examples\u001B[39;00m\n\u001B[0;32m      3\u001B[0m negative_exs_pred \u001B[38;5;241m=\u001B[39m \u001B[38;5;124m\"\u001B[39m\u001B[38;5;124m\"\u001B[39m \u001B[38;5;66;03m# enter predicate symbol denoting negative examples\u001B[39;00m\n\u001B[1;32m----> 4\u001B[0m \u001B[43mrdf2popper\u001B[49m\u001B[43m(\u001B[49m\u001B[43mnt_file_name\u001B[49m\u001B[43m,\u001B[49m\u001B[43m \u001B[49m\u001B[43mpositive_exs_pred\u001B[49m\u001B[43m,\u001B[49m\u001B[43m \u001B[49m\u001B[43mnegative_exs_pred\u001B[49m\u001B[43m,\u001B[49m\u001B[43m \u001B[49m\u001B[38;5;124;43m'\u001B[39;49m\u001B[38;5;124;43maleph\u001B[39;49m\u001B[38;5;124;43m'\u001B[39;49m\u001B[43m)\u001B[49m\n",
      "File \u001B[1;32m~\\Documents\\Moje\\Věci do školy\\Vysoká - VŠE AI\\Diplomová práce\\rdf2popper\\rdf2popper.py:77\u001B[0m, in \u001B[0;36mrdf2popper\u001B[1;34m(file_name, head_pred_name, negative_predicate, mode, output_directory, output_prefix, universal_predicate_1, unary_exs_values)\u001B[0m\n\u001B[0;32m     74\u001B[0m \u001B[38;5;28;01mif\u001B[39;00m mode \u001B[38;5;241m!=\u001B[39m \u001B[38;5;124m'\u001B[39m\u001B[38;5;124mgeneral\u001B[39m\u001B[38;5;124m'\u001B[39m:\n\u001B[0;32m     76\u001B[0m     \u001B[38;5;28;01mif\u001B[39;00m head_pred_name \u001B[38;5;129;01mnot\u001B[39;00m \u001B[38;5;129;01min\u001B[39;00m [val[\u001B[38;5;241m1\u001B[39m] \u001B[38;5;28;01mfor\u001B[39;00m val \u001B[38;5;129;01min\u001B[39;00m triples]:\n\u001B[1;32m---> 77\u001B[0m         \u001B[38;5;28;01mraise\u001B[39;00m \u001B[38;5;167;01mValueError\u001B[39;00m(\u001B[38;5;124mf\u001B[39m\u001B[38;5;124m'\u001B[39m\u001B[38;5;124mMissing head predicate in the \u001B[39m\u001B[38;5;132;01m{\u001B[39;00minput_file\u001B[38;5;132;01m}\u001B[39;00m\u001B[38;5;124m'\u001B[39m)\n\u001B[0;32m     79\u001B[0m     exs_list \u001B[38;5;241m=\u001B[39m []\n\u001B[0;32m     80\u001B[0m     bk_list \u001B[38;5;241m=\u001B[39m []\n",
      "\u001B[1;31mValueError\u001B[0m: Missing head predicate in the trains1.nt"
     ]
    }
   ],
   "execution_count": 4
  }
 ],
 "metadata": {
  "kernelspec": {
   "display_name": "Python 3",
   "language": "python",
   "name": "python3"
  },
  "language_info": {
   "codemirror_mode": {
    "name": "ipython",
    "version": 2
   },
   "file_extension": ".py",
   "mimetype": "text/x-python",
   "name": "python",
   "nbconvert_exporter": "python",
   "pygments_lexer": "ipython2",
   "version": "2.7.6"
  }
 },
 "nbformat": 4,
 "nbformat_minor": 5
}
