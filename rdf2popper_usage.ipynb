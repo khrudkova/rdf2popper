{
 "cells": [
  {
   "cell_type": "markdown",
   "id": "449db4beaffe1d81",
   "metadata": {},
   "source": [
    "The converter outputs files based on the structure of datasets from the [Popper examples](https://github.com/logic-and-learning-lab/Popper/tree/main/examples). It expects the input to be a knowledge graph in .nt format."
   ]
  },
  {
   "cell_type": "code",
   "execution_count": 1,
   "id": "initial_id",
   "metadata": {
    "ExecuteTime": {
     "end_time": "2025-09-03T13:38:12.979993Z",
     "start_time": "2025-09-03T13:38:12.972994Z"
    },
    "collapsed": true,
    "jupyter": {
     "outputs_hidden": true
    }
   },
   "outputs": [],
   "source": [
    "from rdf2popper import rdf2popper"
   ]
  },
  {
   "cell_type": "markdown",
   "id": "68151c28c5439c42",
   "metadata": {},
   "source": [
    "**rdf2popper** has three required input parameters. Most of the parameters have default values and can be ignored.\n",
    "\n",
    "- file_name\n",
    "    - name of N-Triples file without .nt extension\n",
    "- head_pred_name\n",
    "    - name of head predicate (predicate symbol of positive examples)\n",
    "- negative_predicate\n",
    "    - predicate symbol of negative examples\n",
    "    - if left empty, the positive one is used with false value at the object position\n",
    "- output_directory: output\n",
    "    - name of prefix appended to output directory\n",
    "- output_prefix: rdf2popper\n",
    "    - name of prefix appended to output for particular dataset directory\n",
    "- universal_predicate_1: has_property\n",
    "        - predicate symbol name for unary atoms\n",
    "        - works automatically for **rdf:type** predicates\n",
    "- unary_exs_values: [true, false] list\n",
    "    - list of true/false values for unary examples recognition\n",
    "\n",
    "The following line of code will generate the output from the input files to the \"output\" folder, if the .nt file is present in the current directory. Before running the code, define the name of the input .nt file minus the extension, positive and negative predicate, if needed."
   ]
  },
  {
   "cell_type": "code",
   "execution_count": 2,
   "id": "82db49735e2e537d",
   "metadata": {
    "ExecuteTime": {
     "end_time": "2025-09-03T13:38:14.636405Z",
     "start_time": "2025-09-03T13:38:14.628843Z"
    }
   },
   "outputs": [],
   "source": [
    "nt_file_name = \"numeric-zendo1\" # enter .nt file name\n",
    "positive_exs_pred = \"zendo\" # enter predicate symbol denoting positive examples\n",
    "negative_exs_pred = \"not_zendo\" # enter predicate symbol denoting negative examples\n",
    "rdf2popper(nt_file_name, positive_exs_pred, negative_exs_pred, 'popper')"
   ]
  }
 ],
 "metadata": {
  "kernelspec": {
   "display_name": "Python 3 (ipykernel)",
   "language": "python",
   "name": "python3"
  },
  "language_info": {
   "codemirror_mode": {
    "name": "ipython",
    "version": 3
   },
   "file_extension": ".py",
   "mimetype": "text/x-python",
   "name": "python",
   "nbconvert_exporter": "python",
   "pygments_lexer": "ipython3",
   "version": "3.12.10"
  }
 },
 "nbformat": 4,
 "nbformat_minor": 5
}
