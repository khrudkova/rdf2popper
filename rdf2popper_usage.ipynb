{
 "cells": [
  {
   "metadata": {},
   "cell_type": "markdown",
   "source": "The converter outputs files based on the structure of datasets from the [Popper examples](https://github.com/logic-and-learning-lab/Popper/tree/main/examples). It expects the input to be a knowledge graph in .nt format.",
   "id": "449db4beaffe1d81"
  },
  {
   "cell_type": "code",
   "id": "initial_id",
   "metadata": {
    "collapsed": true,
    "ExecuteTime": {
     "end_time": "2024-11-28T12:59:02.319327Z",
     "start_time": "2024-11-28T12:59:02.302457Z"
    }
   },
   "source": "from rdf2popper import rdf2popper",
   "outputs": [],
   "execution_count": 1
  },
  {
   "metadata": {},
   "cell_type": "markdown",
   "source": [
    "*rdf2popper* has three required input parameters. Most of the parameters have default values and can be ignored.\n",
    "\n",
    "- file_name\n",
    "    - name of N-Triples file without .nt extension\n",
    "- head_pred_name\n",
    "    - name of head predicate (predicate symbol of positive examples)\n",
    "- negative_predicate\n",
    "    - predicate symbol of negative examples\n",
    "    - if left empty, the positive one is used with false value at the object position\n",
    "- output_directory: output\n",
    "    - name of prefix appended to output directory\n",
    "- output_prefix: rdf2popper\n",
    "    - name of prefix appended to output for particular dataset directory\n",
    "- universal_predicate_1: has_property\n",
    "        - predicate symbol name for unary atoms\n",
    "        - works automatically for **rdf:type** predicates\n",
    "- unary_exs_values: [true, false] list\n",
    "    - list of true/false values for unary examples recognition\n",
    "\n",
    "The following line of code will generate the output from the input files to the \"output\" folder, if the .nt file is present in the current directory. Before running the code, define the name of the input .nt file minus the extension, positive and negative predicate, if needed."
   ],
   "id": "68151c28c5439c42"
  },
  {
   "metadata": {},
   "cell_type": "code",
   "source": [
    "nt_file_name = \"\" # enter .nt file name\n",
    "positive_exs_pred = \"\" # enter predicate symbol denoting positive examples\n",
    "negative_exs_pred = \"\" # enter predicate symbol denoting negative examples\n",
    "rdf2popper(nt_file_name, positive_exs_pred, negative_exs_pred)"
   ],
   "id": "82db49735e2e537d",
   "outputs": [],
   "execution_count": null
  }
 ],
 "metadata": {
  "kernelspec": {
   "display_name": "Python 3",
   "language": "python",
   "name": "python3"
  },
  "language_info": {
   "codemirror_mode": {
    "name": "ipython",
    "version": 2
   },
   "file_extension": ".py",
   "mimetype": "text/x-python",
   "name": "python",
   "nbconvert_exporter": "python",
   "pygments_lexer": "ipython2",
   "version": "2.7.6"
  }
 },
 "nbformat": 4,
 "nbformat_minor": 5
}
